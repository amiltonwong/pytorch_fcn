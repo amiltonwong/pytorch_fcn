{
 "cells": [
  {
   "cell_type": "code",
   "execution_count": 1,
   "metadata": {
    "collapsed": true
   },
   "outputs": [],
   "source": [
    "from argparse import ArgumentParser\n",
    "import os\n",
    "import random\n",
    "from matplotlib import pyplot as plt\n",
    "import torch\n",
    "from torch import optim\n",
    "from torch import nn\n",
    "from torch.nn import functional as F\n",
    "from torch.autograd import Variable\n",
    "from torch.utils.data import DataLoader\n",
    "from torchvision import models\n",
    "from torchvision.utils import save_image\n",
    "\n",
    "from data import CityscapesDataset, num_classes, full_to_colour, train_to_full\n",
    "from model import FeatureResNet, SegResNet"
   ]
  },
  {
   "cell_type": "code",
   "execution_count": 2,
   "metadata": {
    "collapsed": true
   },
   "outputs": [],
   "source": [
    "??FeatureResNet"
   ]
  },
  {
   "cell_type": "code",
   "execution_count": 3,
   "metadata": {
    "collapsed": true
   },
   "outputs": [],
   "source": [
    "??SegResNet"
   ]
  },
  {
   "cell_type": "code",
   "execution_count": null,
   "metadata": {
    "collapsed": true
   },
   "outputs": [],
   "source": [
    "# dimension of cityscapes : 2048 x 1024"
   ]
  },
  {
   "cell_type": "code",
   "execution_count": null,
   "metadata": {
    "collapsed": true
   },
   "outputs": [],
   "source": [
    "# Setup\n",
    "parser = ArgumentParser(description='Semantic segmentation')\n",
    "parser.add_argument('--seed', type=int, default=42, help='Random seed')\n",
    "parser.add_argument('--workers', type=int, default=8, help='Data loader workers')\n",
    "parser.add_argument('--epochs', type=int, default=100, help='Training epochs')\n",
    "parser.add_argument('--crop-size', type=int, default=512, help='Training crop size')\n",
    "parser.add_argument('--lr', type=float, default=5e-5, help='Learning rate')\n",
    "parser.add_argument('--weight-decay', type=float, default=2e-4, help='Weight decay')\n",
    "parser.add_argument('--batch-size', type=int, default=4, help='Batch size')\n",
    "args = parser.parse_args()\n",
    "random.seed(args.seed)\n",
    "torch.manual_seed(args.seed)\n",
    "if not os.path.exists('results'):\n",
    "    os.makedirs('results')\n",
    "plt.switch_backend('agg')  # Allow plotting when running remotely"
   ]
  },
  {
   "cell_type": "code",
   "execution_count": 7,
   "metadata": {},
   "outputs": [],
   "source": [
    "# hyperparmas:\n",
    "seed = 42\n",
    "workers = 8\n",
    "epochs = 100\n",
    "cropsize = 512\n",
    "lr = 5e-5\n",
    "weightdecay = 2e-4\n",
    "batchsize = 2"
   ]
  },
  {
   "cell_type": "code",
   "execution_count": 8,
   "metadata": {
    "collapsed": true
   },
   "outputs": [],
   "source": [
    "torch.manual_seed(seed)\n",
    "if not os.path.exists('results'):\n",
    "    os.makedirs('results')"
   ]
  },
  {
   "cell_type": "code",
   "execution_count": null,
   "metadata": {
    "collapsed": true
   },
   "outputs": [],
   "source": []
  }
 ],
 "metadata": {
  "kernelspec": {
   "display_name": "Python 3",
   "language": "python",
   "name": "python3"
  },
  "language_info": {
   "codemirror_mode": {
    "name": "ipython",
    "version": 3
   },
   "file_extension": ".py",
   "mimetype": "text/x-python",
   "name": "python",
   "nbconvert_exporter": "python",
   "pygments_lexer": "ipython3",
   "version": "3.5.2"
  },
  "widgets": {
   "state": {},
   "version": "1.1.2"
  }
 },
 "nbformat": 4,
 "nbformat_minor": 2
}
